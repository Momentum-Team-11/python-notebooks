{
 "cells": [
  {
   "cell_type": "markdown",
   "metadata": {},
   "source": [
    "# Object-oriented Python"
   ]
  },
  {
   "cell_type": "markdown",
   "metadata": {},
   "source": [
    "Objects in the context of code are containers for information (data!) and behavior (methods!). \n",
    "\n",
    "Programs can be structured using objects to represent things that we want to handle or manage (like accounts, users, subscriptions, posts, applications, tickets, products, shopping carts...anything you can think of!). \n",
    "\n",
    "Those objects can send messages to each other in order to produce complex interactions."
   ]
  },
  {
   "cell_type": "markdown",
   "metadata": {},
   "source": [
    "## Classes and Instances"
   ]
  },
  {
   "cell_type": "markdown",
   "metadata": {},
   "source": [
    "A **class** is like a blueprint that defines an object. From that blueprint, individual objects, also called **instances**, can be created (or _instantiated_).\n",
    "\n",
    "A well-designed class handles **only one thing** (a best practice called the _single-responsibility_ principle). You don't have the know the details of how the class works in order to be able to use objects created from it (this is called _encapsulation_). The way we use the objects is the _interface_.\n",
    "\n",
    "Notice that a class starts with a capital letter, but variables that hold instances are lowercased."
   ]
  },
  {
   "cell_type": "code",
   "execution_count": null,
   "metadata": {},
   "outputs": [],
   "source": [
    "# Create a Student class\n",
    "\n",
    "class Student():\n",
    "    def __init__(self, name):\n",
    "        self.name = name # an attribute that can hold different values for different instances\n",
    "        \n",
    "    def __str__(self):\n",
    "        return f\"<Student name={self.name}>\"\n",
    "    "
   ]
  },
  {
   "cell_type": "markdown",
   "metadata": {},
   "source": [
    "**Instances** created from the same class share an identity (their type is their _class_), may have different data in their attributes (we call this _state_), and can share behavior through _methods_.\n",
    "\n",
    "The words \"instance\" and \"object\" are used interchangeably.\n",
    "\n",
    "Let's see how the student class can be used to create new student objects. "
   ]
  },
  {
   "cell_type": "code",
   "execution_count": null,
   "metadata": {},
   "outputs": [],
   "source": [
    "# Examples of creating new student objects from the Student class"
   ]
  },
  {
   "cell_type": "markdown",
   "metadata": {},
   "source": [
    "### What is `self`?"
   ]
  },
  {
   "cell_type": "markdown",
   "metadata": {},
   "source": [
    "`self` is a variable used inside a class; it refers back to that same object itself. It must be included as the first parameter in any method definition inside a class and is used to define attributes for that instance."
   ]
  },
  {
   "cell_type": "code",
   "execution_count": null,
   "metadata": {},
   "outputs": [],
   "source": [
    "# Sample Counter object\n",
    "\n",
    "class Counter:\n",
    "    \"\"\"\n",
    "    An object that can count incrementally up.\n",
    "    \"\"\"\n",
    "    def __init__(self, start=0):\n",
    "        self.current = start\n",
    "                \n",
    "    def next(self):\n",
    "        self.current += 1\n",
    "        return self.current\n",
    "    \n",
    "    def __str__(self):\n",
    "        return f\"<Counter current={self.current}>\"\n",
    "\n",
    "    \n",
    "c = Counter(10)\n",
    "print(c.current)\n",
    "# print(c.next())\n",
    "# print(c.next())\n",
    "# print(c.next())"
   ]
  },
  {
   "cell_type": "code",
   "execution_count": null,
   "metadata": {},
   "outputs": [],
   "source": [
    "class Dinosaur():\n",
    "    def __init__(self, name=\"saurus\"):\n",
    "       pass   \n",
    "    \n",
    "    def roar(self):\n",
    "        print(\"RAWRRRR\")\n",
    "\n",
    "        \n",
    "dino = Dinosaur()\n",
    "# print(dino)\n",
    "# print(dino.roar())\n",
    "# print(dir(Dinosaur()))"
   ]
  },
  {
   "cell_type": "markdown",
   "metadata": {},
   "source": [
    "We have been using objects since we began with Python. **Everything in Python is an object.**"
   ]
  },
  {
   "cell_type": "code",
   "execution_count": null,
   "metadata": {},
   "outputs": [],
   "source": [
    "a_number = 1\n",
    "a_string = \"Hello!\"\n",
    "a_list = [\"a\", \"b\"]\n",
    "a_dict = {\"A\": 1}\n",
    "a_set = {1, 2, 3}\n",
    "def a_function(x):\n",
    "    return x\n",
    "\n",
    "print(type(a_number))\n",
    "print(type(a_string))\n",
    "print(type(a_list))\n",
    "print(type(a_dict))\n",
    "print(type(a_set))\n",
    "print(type(a_function))"
   ]
  },
  {
   "cell_type": "markdown",
   "metadata": {},
   "source": [
    "Note that each one of those outputs has the word `class`. A _class_ is the type of an object. Each of those classes represent different types of objects that can do different things.\n",
    "\n",
    "We can use `dir` to see all the methods of an object."
   ]
  },
  {
   "cell_type": "code",
   "execution_count": null,
   "metadata": {},
   "outputs": [],
   "source": [
    "dir(a_dict)"
   ]
  },
  {
   "cell_type": "code",
   "execution_count": null,
   "metadata": {},
   "outputs": [],
   "source": [
    "dir(a_list)"
   ]
  },
  {
   "cell_type": "markdown",
   "metadata": {},
   "source": [
    "All the methods with `__` at the beginning and end of their names are so-called \"special methods\" (aka \"magic methods\" or \"dunder methods\" (for the **d**ouble-**under**score). \n",
    "\n",
    "You can call them and they won't throw an error, but they are meant to be called by the Python interpreter rather than called directly by you. For example, `__str__` is called when you pass an object to the `str` function."
   ]
  },
  {
   "cell_type": "markdown",
   "metadata": {},
   "source": [
    "## Creating your own classes"
   ]
  },
  {
   "cell_type": "markdown",
   "metadata": {},
   "source": [
    "We can create our own classes for use in the programs we write. So far, we haven't needed them. So, when do you need classes?\n",
    "\n",
    "Classes are useful because objects contain both _state_ and _behavior_. When your behavior is coupled to your state, a class can be useful. \n",
    "\n",
    "**State** is just data, contained in an object's attributes or properties. **Behavior** refers to things the object can do through its methods (which are just functions defined as part of an object).\n",
    "\n",
    "Note that **any code written with classes can be written without them**. Sometimes it makes sense to go with classes, though, as a way to organize and reason about what the code does.\n",
    "\n",
    "How do we write a class?"
   ]
  },
  {
   "cell_type": "code",
   "execution_count": null,
   "metadata": {},
   "outputs": [],
   "source": [
    "# Name of object class\n",
    "class Person:\n",
    "    \n",
    "    # Sets up the initial state of the object\n",
    "    # Note the initial argument of _self_\n",
    "    def __init__(self, name):\n",
    "        self.name = name\n",
    "        \n",
    "    # Adds behavior\n",
    "    # Note the initial argument of _self_    \n",
    "    def greet(self):\n",
    "        print(f\"Hello, my name is {self.name}. It is nice to meet you!\")"
   ]
  },
  {
   "cell_type": "code",
   "execution_count": null,
   "metadata": {},
   "outputs": [],
   "source": [
    "kendall = Person(\"Kendall\")\n",
    "kendall.greet()"
   ]
  },
  {
   "cell_type": "code",
   "execution_count": null,
   "metadata": {},
   "outputs": [],
   "source": [
    "student = Person(\"Meagan\")\n",
    "student.greet()"
   ]
  },
  {
   "cell_type": "code",
   "execution_count": null,
   "metadata": {},
   "outputs": [],
   "source": [
    "class Clicker:\n",
    "    \"\"\"Counts up from 0 (or the initial count) every time you call .click().\"\"\"\n",
    "    \n",
    "    def __init__(self, initial_count=0):\n",
    "        self.count = initial_count\n",
    "        \n",
    "    def click(self):\n",
    "        self.count += 1"
   ]
  },
  {
   "cell_type": "code",
   "execution_count": null,
   "metadata": {},
   "outputs": [],
   "source": [
    "fair_clicker = Clicker()\n",
    "\n",
    "# I can get attributes out of my objects.\n",
    "fair_clicker.count"
   ]
  },
  {
   "cell_type": "code",
   "execution_count": null,
   "metadata": {},
   "outputs": [],
   "source": [
    "fair_clicker.click()\n",
    "fair_clicker.click()\n",
    "\n",
    "fair_clicker.count"
   ]
  },
  {
   "cell_type": "markdown",
   "metadata": {},
   "source": [
    "Note above that when we use a property, there's no parentheses.\n",
    "\n",
    "```py\n",
    "object.method()\n",
    "object.property\n",
    "```"
   ]
  },
  {
   "cell_type": "code",
   "execution_count": null,
   "metadata": {},
   "outputs": [],
   "source": [
    "for _ in range(5):\n",
    "    fair_clicker.click()\n",
    "    \n",
    "fair_clicker.count"
   ]
  },
  {
   "cell_type": "markdown",
   "metadata": {},
   "source": [
    "# Naming classes\n",
    "\n",
    "Classes are named with \"camel case\" -- that is, words start with capital letters and have no punctuation between them, like:\n",
    "\n",
    "* `LineSegment`\n",
    "* `GarbageTruck`\n",
    "* `OficinaDeEmergencia`"
   ]
  },
  {
   "cell_type": "markdown",
   "metadata": {},
   "source": [
    "## A more complex example"
   ]
  },
  {
   "cell_type": "markdown",
   "metadata": {},
   "source": [
    "Classes can have as many methods as you need."
   ]
  },
  {
   "cell_type": "code",
   "execution_count": null,
   "metadata": {},
   "outputs": [],
   "source": [
    "import math\n",
    "\n",
    "class Point:\n",
    "    \"\"\"A coordinate on a Cartesian plane.\"\"\"\n",
    "    \n",
    "    def __init__(self, x, y):\n",
    "        self.x = x\n",
    "        self.y = y\n",
    "        \n",
    "    def distance(self, other):\n",
    "        \"\"\"Calculate the distance between this point and another point.\"\"\"\n",
    "        return math.sqrt((self.x - other.x) ** 2 + \n",
    "                         (self.y - other.y) ** 2)\n",
    "    \n",
    "    def quadrant(self):\n",
    "        \"\"\"Calculates which quadrant of the Cartesian plane this point is in.\n",
    "        \n",
    "        Crude diagram:\n",
    "        \n",
    "          4  |  1\n",
    "             |\n",
    "        -----------\n",
    "             |\n",
    "          3  |  2\n",
    "          \n",
    "        For purposes of this calculation, zero counts as a positive number.\n",
    "        \"\"\"\n",
    "        if x >= 0 and y >= 0:\n",
    "            return 1\n",
    "        elif x >= 0:\n",
    "            return 2\n",
    "        elif y < 0:\n",
    "            return 3\n",
    "        else:\n",
    "            return 4\n",
    "        \n",
    "    def rotate(self, quarters=1):\n",
    "        \"\"\"Rotate the point around the center for some number of quarter turns.\"\"\"\n",
    "        if quarters is 1:\n",
    "            return Point(self.y, -self.x)\n",
    "        else:\n",
    "            return Point(self.y, -self.x).rotate(quarters - 1)\n",
    "    \n",
    "    def __str__(self):\n",
    "        \"\"\"String representation of a point.\"\"\"\n",
    "        return \"Point({}, {})\".format(self.x, self.y)\n",
    "    \n",
    "    def __repr__(self):\n",
    "        \"\"\"Representation by Python output.\"\"\"\n",
    "        return f\"<Point x={self.x}, y={self.y}>\""
   ]
  },
  {
   "cell_type": "code",
   "execution_count": null,
   "metadata": {},
   "outputs": [],
   "source": [
    "p1 = Point(2, 3)\n",
    "p1"
   ]
  },
  {
   "cell_type": "code",
   "execution_count": null,
   "metadata": {},
   "outputs": [],
   "source": [
    "p1.rotate()"
   ]
  },
  {
   "cell_type": "code",
   "execution_count": null,
   "metadata": {},
   "outputs": [],
   "source": [
    "p1.rotate(2)"
   ]
  },
  {
   "cell_type": "code",
   "execution_count": null,
   "metadata": {},
   "outputs": [],
   "source": [
    "p1.rotate(10)"
   ]
  },
  {
   "cell_type": "markdown",
   "metadata": {},
   "source": [
    "Generally, classes interact with each other."
   ]
  },
  {
   "cell_type": "code",
   "execution_count": null,
   "metadata": {},
   "outputs": [],
   "source": [
    "class LineSegment:\n",
    "    def __init__(self, point1: Point, point2: Point):\n",
    "        \"\"\"\n",
    "        Arguments:\n",
    "        - point1: instance of Point\n",
    "        - point2: instance of Point\n",
    "        \"\"\"\n",
    "        self.p1 = point1\n",
    "        self.p2 = point2\n",
    "        \n",
    "    def slope(self):\n",
    "        \"\"\"Find the slope of this segment on the plane.\"\"\"\n",
    "        return (self.p1.y - self.p2.y) / (self.p1.x - self.p2.x)\n",
    "    \n",
    "    def midpoint(self):\n",
    "        \"\"\"Find the point in the middle of this segment.\"\"\"\n",
    "        x = (self.p1.x + self.p2.x) / 2\n",
    "        y = (self.p1.y + self.p2.y) / 2\n",
    "        return Point(x, y)\n",
    "    \n",
    "    def rotate(self, quarters=1):\n",
    "        \"\"\"Rotate the segment around the center for some number of quarter turns.\"\"\"\n",
    "        return LineSegment(self.p1.rotate(quarters), self.p2.rotate(quarters))\n",
    "    \n",
    "    def __str__(self):\n",
    "        return \"LineSegment({}, {})\".format(self.p1, self.p2)\n"
   ]
  },
  {
   "cell_type": "code",
   "execution_count": null,
   "metadata": {},
   "outputs": [],
   "source": [
    "seg = LineSegment(Point(-3, 0.5), \n",
    "                  Point(2, 1))\n",
    "print(seg)"
   ]
  },
  {
   "cell_type": "code",
   "execution_count": null,
   "metadata": {},
   "outputs": [],
   "source": [
    "# Demonstration of sending bad info to a class\n",
    "seg = LineSegment((-3, 0.5), (2, 1))\n",
    "print(seg)"
   ]
  },
  {
   "cell_type": "code",
   "execution_count": null,
   "metadata": {},
   "outputs": [],
   "source": [
    "seg.midpoint()"
   ]
  },
  {
   "cell_type": "code",
   "execution_count": null,
   "metadata": {},
   "outputs": [],
   "source": [
    "seg.rotate()"
   ]
  },
  {
   "cell_type": "code",
   "execution_count": null,
   "metadata": {},
   "outputs": [],
   "source": [
    "class Point:\n",
    "    def __init__(self, x, y):\n",
    "        self.x = x\n",
    "        self.y = y\n",
    "        \n",
    "    def __repr__(self):\n",
    "        return \"Point({}, {})\".format(self.x, self.y)\n",
    "\n",
    "    def __str__(self):\n",
    "        return \"({}, {})\".format(self.x, self.y)"
   ]
  },
  {
   "cell_type": "code",
   "execution_count": null,
   "metadata": {},
   "outputs": [],
   "source": [
    "p = Point(3, 4)"
   ]
  },
  {
   "cell_type": "code",
   "execution_count": null,
   "metadata": {},
   "outputs": [],
   "source": [
    "p"
   ]
  },
  {
   "cell_type": "code",
   "execution_count": null,
   "metadata": {},
   "outputs": [],
   "source": [
    "str(p)"
   ]
  },
  {
   "cell_type": "markdown",
   "metadata": {},
   "source": [
    "## Inheritance (here be dragons)"
   ]
  },
  {
   "cell_type": "markdown",
   "metadata": {},
   "source": [
    "Inheritance lets you create _subclasses_: classes that inherit all the behavior of their parent class, but can add or override that behavior. The main benefit of this is being able to reuse code and reduce repetition, but it comes with some significant downsides by creating a lot of interdependence between different objects. This can quickly become very complex.\n",
    "\n",
    "Inheritance is not always the right answer when it comes to designing classes, but it's a powerful tool that sometimes makes sense."
   ]
  },
  {
   "cell_type": "code",
   "execution_count": null,
   "metadata": {},
   "outputs": [],
   "source": [
    "# A set of classes for planning a conference.\n",
    "\n",
    "class Attendee:\n",
    "    def __init__(self, name, email):\n",
    "        print(\"Attendee.__init__\")        \n",
    "        self.name = name\n",
    "        self.email = email\n",
    "        self.checked_in = False\n",
    "        \n",
    "    def badge_text(self):\n",
    "        return self.name\n",
    "    \n",
    "    def check_in(self):\n",
    "        self.checked_in = True\n",
    "        \n",
    "class Talk:\n",
    "    def __init__(self, name):\n",
    "        self.name = name\n",
    "        \n",
    "class Speaker(Attendee):\n",
    "    def __init__(self, name, email, talks):\n",
    "        print(\"Speaker.__init__\")\n",
    "        super().__init__(name, email)\n",
    "        self.talks = talks\n",
    "        \n",
    "    def badge_text(self):\n",
    "        return \"\\n\".join([self.name, \"Speaker\"])\n",
    "        \n",
    "class Vendor(Attendee):\n",
    "    def __init__(self, name, email, company):\n",
    "        print(\"Vendor.__init__\")                    \n",
    "        super().__init__(name, email)\n",
    "        self.company = company\n",
    "        \n",
    "    def badge_text(self):\n",
    "        return \"\\n\".join([self.name, self.company])"
   ]
  },
  {
   "cell_type": "markdown",
   "metadata": {},
   "source": [
    "`super()` is how we get access to the parent class's methods."
   ]
  },
  {
   "cell_type": "code",
   "execution_count": null,
   "metadata": {},
   "outputs": [],
   "source": [
    "scout = Attendee(\"Scout\", \"scout@example.org\")\n",
    "print(\"---\")\n",
    "cadence = Speaker(\"Cadence\", \"cadence@example.org\", talks=[Talk(\"How to Make Objects\")])\n",
    "print(\"---\")\n",
    "avery = Vendor(\"Avery\", \"avery@example.org\", company=\"Dunster\")"
   ]
  },
  {
   "cell_type": "code",
   "execution_count": null,
   "metadata": {},
   "outputs": [],
   "source": [
    "print(scout.badge_text())\n",
    "print(\"---\")\n",
    "print(cadence.badge_text())\n",
    "print(\"---\")\n",
    "print(avery.badge_text())"
   ]
  },
  {
   "cell_type": "code",
   "execution_count": null,
   "metadata": {},
   "outputs": [],
   "source": [
    "scout.check_in()\n",
    "cadence.check_in()\n",
    "avery.check_in()\n",
    "print(scout.checked_in, cadence.checked_in, avery.checked_in)"
   ]
  },
  {
   "cell_type": "code",
   "execution_count": null,
   "metadata": {},
   "outputs": [],
   "source": [
    "print(type(scout))\n",
    "print(type(cadence))\n",
    "print(type(avery))"
   ]
  },
  {
   "cell_type": "markdown",
   "metadata": {},
   "source": [
    "Multiple inheritance also exists, where you can inherit from several classes. We will not cover this until we have a compelling use case for it."
   ]
  }
 ],
 "metadata": {
  "kernelspec": {
   "display_name": "Python 3 (ipykernel)",
   "language": "python",
   "name": "python3"
  },
  "language_info": {
   "codemirror_mode": {
    "name": "ipython",
    "version": 3
   },
   "file_extension": ".py",
   "mimetype": "text/x-python",
   "name": "python",
   "nbconvert_exporter": "python",
   "pygments_lexer": "ipython3",
   "version": "3.10.2"
  }
 },
 "nbformat": 4,
 "nbformat_minor": 2
}
